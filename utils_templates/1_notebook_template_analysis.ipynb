{
 "cells": [
  {
   "cell_type": "markdown",
   "id": "720575c4-3df8-401d-bb60-8d97a515dd01",
   "metadata": {},
   "source": [
    "# Analysis Notebook Template\n",
    "\n",
    "This is a template notebook for data analysis"
   ]
  },
  {
   "cell_type": "code",
   "execution_count": 2,
   "id": "47b16f4e-2777-4e77-8a40-3273fc5f7dd8",
   "metadata": {},
   "outputs": [],
   "source": [
    "import pandas as pd\n",
    "import numpy as np\n",
    "import seaborn as sns\n",
    "import matplotlib as mpl\n",
    "import matplotlib.pyplot as plt\n",
    "\n",
    "from pandas_profiling import ProfileReport\n",
    "import supervenn"
   ]
  },
  {
   "cell_type": "markdown",
   "id": "cfbe3135-9172-40ff-b603-06213ea6f6aa",
   "metadata": {},
   "source": [
    "# Generals"
   ]
  },
  {
   "cell_type": "code",
   "execution_count": 4,
   "id": "a75e0661-50ed-4b93-a794-51d5f7d5f1e0",
   "metadata": {},
   "outputs": [],
   "source": [
    "## Facts to note\n",
    "# df shape\n",
    "# df info\n",
    "# qtd nulls each col\n",
    "# categorical cols, numerical cols\n",
    "# need for dummyzation\n",
    "# need for normalization (features distribution)\n",
    "# target's distribution"
   ]
  },
  {
   "cell_type": "code",
   "execution_count": null,
   "id": "2203be76-2bfe-4075-bb44-ca2daf2252af",
   "metadata": {},
   "outputs": [],
   "source": [
    "# profile = ProfileReport(df, title=\"sometitle\", explorative=True, minimal=True)"
   ]
  }
 ],
 "metadata": {
  "kernelspec": {
   "display_name": "Python 3 (ipykernel)",
   "language": "python",
   "name": "python3"
  },
  "language_info": {
   "codemirror_mode": {
    "name": "ipython",
    "version": 3
   },
   "file_extension": ".py",
   "mimetype": "text/x-python",
   "name": "python",
   "nbconvert_exporter": "python",
   "pygments_lexer": "ipython3",
   "version": "3.8.10"
  }
 },
 "nbformat": 4,
 "nbformat_minor": 5
}
