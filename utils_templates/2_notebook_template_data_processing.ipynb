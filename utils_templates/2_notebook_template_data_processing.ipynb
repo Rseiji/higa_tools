{
 "cells": [
  {
   "cell_type": "markdown",
   "id": "a67a16ae-45eb-4649-8868-cd16d21621a9",
   "metadata": {},
   "source": [
    "# Data Processing Template"
   ]
  },
  {
   "cell_type": "code",
   "execution_count": 2,
   "id": "5780f452-4a99-4d7b-b7b2-cd99d866c0f6",
   "metadata": {},
   "outputs": [],
   "source": [
    "import pandas as pd\n",
    "import numpy as np"
   ]
  },
  {
   "cell_type": "markdown",
   "id": "6c98900b-6a32-47ef-ae98-56554bf9e1ec",
   "metadata": {},
   "source": [
    "# Data Read"
   ]
  },
  {
   "cell_type": "markdown",
   "id": "800d9f35-f1f9-420e-b82b-4e1bf1fc78e1",
   "metadata": {},
   "source": [
    "# Preprocess"
   ]
  },
  {
   "cell_type": "markdown",
   "id": "33ee0681-6058-44c4-b7c0-bf830a3b2091",
   "metadata": {},
   "source": [
    "# Post Processing"
   ]
  },
  {
   "cell_type": "markdown",
   "id": "e943c564-6515-4cb0-98be-294683273299",
   "metadata": {},
   "source": [
    "# Persist Data"
   ]
  }
 ],
 "metadata": {
  "kernelspec": {
   "display_name": "Python 3 (ipykernel)",
   "language": "python",
   "name": "python3"
  },
  "language_info": {
   "codemirror_mode": {
    "name": "ipython",
    "version": 3
   },
   "file_extension": ".py",
   "mimetype": "text/x-python",
   "name": "python",
   "nbconvert_exporter": "python",
   "pygments_lexer": "ipython3",
   "version": "3.8.10"
  }
 },
 "nbformat": 4,
 "nbformat_minor": 5
}
